{
 "cells": [
  {
   "cell_type": "markdown",
   "id": "cc60c93c",
   "metadata": {},
   "source": [
    "# **NYC Taxi Data Analysis - Yellow Taxis**\n",
    "\n",
    "Exploratory analysis on NYC Yellow Taxis looking into customer segmentation and factors that may impact tipping behaviors across the 5 boroughs\n",
    "\n",
    "--- "
   ]
  },
  {
   "cell_type": "code",
   "execution_count": null,
   "id": "e4001f81",
   "metadata": {
    "vscode": {
     "languageId": "plaintext"
    }
   },
   "outputs": [],
   "source": []
  },
  {
   "cell_type": "markdown",
   "id": "be351c9c",
   "metadata": {},
   "source": []
  }
 ],
 "metadata": {
  "language_info": {
   "name": "python"
  }
 },
 "nbformat": 4,
 "nbformat_minor": 5
}
